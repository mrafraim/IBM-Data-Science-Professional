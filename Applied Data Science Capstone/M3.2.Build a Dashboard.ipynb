{
 "cells": [
  {
   "cell_type": "markdown",
   "id": "901937ae-f235-450e-88ac-aa5e9820a195",
   "metadata": {},
   "source": [
    "# Build a Dashboard Application with Plotly Dash"
   ]
  },
  {
   "cell_type": "markdown",
   "id": "b686e668-6bf8-4638-be6f-cb6dc3923d84",
   "metadata": {},
   "source": [
    "In this lab, you will be building a Plotly Dash application for users to perform interactive visual analytics on SpaceX launch data in\n",
    "real-time.\n",
    "\n",
    "This dashboard application contains input components such as a dropdown list and a range slider to\n",
    "interact with a pie chart and a scatter point chart. You will be guided to build this dashboard application via the following tasks:\n",
    "\n",
    "- TASK 1: Add a Launch Site Drop-down Input Component\n",
    "- TASK 2: Add a callback function to render `success-pie-chart` based on selected site dropdown\n",
    "- TASK 3: Add a Range Slider to Select Payload\n",
    "- TASK 4: Add a callback function to render the `success-payload-scatter-chart` scatter plot\n",
    "\n",
    "**Note:Please take screenshots of the Dashboard and save them. Further upload your notebook to github.** \n",
    "\n",
    "**The github url and the screenshots are later required in the presentation slides.**\n",
    "\n",
    "Your completed dashboard application should look like the following screenshot:"
   ]
  },
  {
   "cell_type": "markdown",
   "id": "d80290e0-7011-42cb-bee8-35a7c1abb82f",
   "metadata": {},
   "source": [
    "![demo img](dash_completed.png)"
   ]
  },
  {
   "cell_type": "markdown",
   "id": "eb35482e-0d96-45d6-bfe1-1e3a4c932c8f",
   "metadata": {},
   "source": [
    "After visual analysis using the dashboard, you should be able to obtain some insights to answer the following five questions:\n",
    "\n",
    "1. Which site has the largest successful launches?\n",
    "2. Which site has the highest launch success rate?\n",
    "3. Which payload range(s) has the highest launch success rate?\n",
    "4. Which payload range(s) has the lowest launch success rate?\n",
    "5. Which F9 Booster version (v1.0, v1.1, FT, B4, B5, etc.) has the highest launch success rate?\n",
    "\n",
    "**Estimated time needed: 90 minutes**"
   ]
  },
  {
   "cell_type": "code",
   "execution_count": 30,
   "id": "396e4bdf-5fbe-40a2-9cae-ad487162bb07",
   "metadata": {},
   "outputs": [
    {
     "data": {
      "text/html": [
       "\n",
       "        <iframe\n",
       "            width=\"100%\"\n",
       "            height=\"650\"\n",
       "            src=\"http://127.0.0.1:8050/\"\n",
       "            frameborder=\"0\"\n",
       "            allowfullscreen\n",
       "            \n",
       "        ></iframe>\n",
       "        "
      ],
      "text/plain": [
       "<IPython.lib.display.IFrame at 0x24002f1bed0>"
      ]
     },
     "metadata": {},
     "output_type": "display_data"
    }
   ],
   "source": [
    "# Import required libraries\n",
    "import pandas as pd\n",
    "from dash import html\n",
    "from dash import dcc\n",
    "from dash.dependencies import Input, Output\n",
    "import plotly.graph_objects as go\n",
    "import plotly.express as px\n",
    "\n",
    "# Read the airline data into pandas dataframe\n",
    "spacex_df = pd.read_csv(\"spacex_launch_dash.csv\")\n",
    "max_payload = spacex_df['Payload Mass (kg)'].max()\n",
    "min_payload = spacex_df['Payload Mass (kg)'].min()\n",
    "\n",
    "# Create a dash application\n",
    "app = dash.Dash(__name__)\n",
    "\n",
    "# Create an app layout\n",
    "app.layout = html.Div(children=[\n",
    "    html.H1('SpaceX Launch Records Dashboard',\n",
    "            style={'textAlign': 'center', 'color': '#503D36', 'font-size': 40}),\n",
    "    # TASK 1: Add a dropdown list to enable Launch Site selection\n",
    "    # The default select value is for ALL sites\n",
    "    dcc.Dropdown(id='site-dropdown',\n",
    "                 options=[\n",
    "                     {'label': 'All Sites', 'value': 'ALL'},\n",
    "                     {'label': 'CCAFS LC-40', 'value': 'CCAFS LC-40'},\n",
    "                     {'label': 'VAFB SLC-4E', 'value': 'VAFB SLC-4E'},\n",
    "                     {'label': 'KSC LC-39A', 'value': 'KSC LC-39A'},\n",
    "                     {'label': 'CCAFS SLC-40', 'value': 'CCAFS SLC-40'}\n",
    "                 ],\n",
    "                 value='ALL',\n",
    "                 placeholder=\"Select a Launch Site\"),\n",
    "    html.Br(),\n",
    "\n",
    "    # TASK 2: Add a pie chart to show the total successful launches count for all sites\n",
    "    # If a specific launch site was selected, show the Success vs. Failed counts for the site\n",
    "    html.Div(dcc.Graph(id='success-pie-chart')),\n",
    "\n",
    "    html.Br(),\n",
    "\n",
    "    html.P(\"Payload range (Kg):\"),\n",
    "    # TASK 3: Add a slider to select payload range\n",
    "    dcc.RangeSlider(id='payload-slider',\n",
    "                    min=0,\n",
    "                    max=10000,\n",
    "                    step=1000,\n",
    "                    marks={i: str(i) for i in range(int(min_payload), int(max_payload) + 1, 1000)},\n",
    "                    value=[int(min_payload), int(max_payload)]\n",
    "                    ),\n",
    "\n",
    "    # TASK 4: Add a scatter chart to show the correlation between payload and launch success\n",
    "    html.Div(dcc.Graph(id='success-payload-scatter-chart')),\n",
    "])\n",
    "\n",
    "\n",
    "# TASK 2:\n",
    "# Add a callback function for `site-dropdown` as input, `success-pie-chart` as output\n",
    "@app.callback(Output('success-pie-chart', 'figure'),\n",
    "              [Input('site-dropdown', 'value')])\n",
    "def update_pie_chart(selected_site):\n",
    "    if selected_site == 'ALL':\n",
    "        # Pie chart showing success rates for all sites\n",
    "        all_sites_counts = spacex_df['Launch Site'].value_counts()\n",
    "        total_launches = all_sites_counts.sum()\n",
    "\n",
    "        percentages = (all_sites_counts / total_launches) * 100\n",
    "\n",
    "        fig = go.Figure(data=[go.Pie(labels=percentages.index, values=percentages)])\n",
    "        fig.update_layout(title_text='Total Success Launches by Site', showlegend=True)\n",
    "    else:\n",
    "        # Pie chart showing success rates for the selected site\n",
    "        filtered_df = spacex_df[spacex_df['Launch Site'] == selected_site]\n",
    "        site_counts = filtered_df['class'].value_counts()\n",
    "        total_site_launches = site_counts.sum()\n",
    "\n",
    "        percentages = (site_counts / total_site_launches) * 100\n",
    "\n",
    "        fig = go.Figure(data=[go.Pie(labels=percentages.index, values=percentages)])\n",
    "        fig.update_layout(title_text=f'Total Success Launches for {selected_site}', showlegend=True)\n",
    "    return fig\n",
    "\n",
    "\n",
    "# TASK 4:\n",
    "# Add a callback function for `site-dropdown` and `payload-slider` as inputs, `success-payload-scatter-chart` as output\n",
    "@app.callback(Output('success-payload-scatter-chart', 'figure'),\n",
    "              [Input('site-dropdown', 'value'),\n",
    "               Input('payload-slider', 'value')])\n",
    "def update_scatter_chart(selected_site, payload_range):\n",
    "    low, high = payload_range\n",
    "    filtered_df = spacex_df[(spacex_df['Payload Mass (kg)'] >= low) & (spacex_df['Payload Mass (kg)'] <= high)]\n",
    "\n",
    "    if selected_site == 'ALL':\n",
    "        fig = px.scatter(filtered_df, x='Payload Mass (kg)', y='class', color='Booster Version Category',\n",
    "                         title='Correlation between Payload and Success for All Sites')\n",
    "    else:\n",
    "        site_filtered_df = filtered_df[filtered_df['Launch Site'] == selected_site]\n",
    "        fig = px.scatter(site_filtered_df, x='Payload Mass (kg)', y='class', color='Booster Version Category',\n",
    "                         title=f'Correlation between Payload and Success for {selected_site}')\n",
    "    return fig\n",
    "\n",
    "\n",
    "# Run the app\n",
    "if __name__ == '__main__':\n",
    "    app.run_server()\n"
   ]
  }
 ],
 "metadata": {
  "kernelspec": {
   "display_name": "Python 3 (ipykernel)",
   "language": "python",
   "name": "python3"
  },
  "language_info": {
   "codemirror_mode": {
    "name": "ipython",
    "version": 3
   },
   "file_extension": ".py",
   "mimetype": "text/x-python",
   "name": "python",
   "nbconvert_exporter": "python",
   "pygments_lexer": "ipython3",
   "version": "3.11.0"
  }
 },
 "nbformat": 4,
 "nbformat_minor": 5
}
