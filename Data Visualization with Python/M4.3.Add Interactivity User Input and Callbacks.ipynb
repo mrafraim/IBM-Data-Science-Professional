{
 "cells": [
  {
   "cell_type": "markdown",
   "id": "da847a01-e3ac-4f83-b031-d9bef0e48c54",
   "metadata": {},
   "source": [
    "## Dash Components"
   ]
  },
  {
   "cell_type": "markdown",
   "id": "f0f95164-ae4d-4bbe-8ee2-232387802ea9",
   "metadata": {},
   "source": [
    "### Objectives\n",
    "\n",
    "After completing this lab, you will able to:\n",
    "\n",
    "- Work with Dash Callbacks\n",
    "\n",
    "**Estimated time needed:** 45 minutesutes"
   ]
  },
  {
   "cell_type": "markdown",
   "id": "f65e960d-c7fd-406a-9a64-5c837aa1b398",
   "metadata": {},
   "source": [
    "### Dataset Used\n",
    "\n",
    "Airline Reporting Carrier On-Time Performance dataset from Data Asset eXchange."
   ]
  },
  {
   "cell_type": "markdown",
   "id": "1e2ab6f8-0c61-41e3-b579-775c15b597e4",
   "metadata": {},
   "source": [
    "### Theme\n",
    "Extract the average monthly arrival delay time and see how it changes over the year. The year range is from 2010 to 2020."
   ]
  },
  {
   "cell_type": "markdown",
   "id": "ea683502-dcd6-4272-a705-2edf01758d10",
   "metadata": {},
   "source": [
    "### Expected Output\n",
    "Below is the expected result from the lab. Our dashboard application consists of three components:\n",
    "\n",
    "- Title of the application\n",
    "- Component to enter input year\n",
    "- Chart conveying the average monthly arrival delay"
   ]
  },
  {
   "cell_type": "markdown",
   "id": "ad588f64-7a0c-4535-b0e9-2c95056e3a7c",
   "metadata": {},
   "source": [
    "![Image](lab2_output.png)"
   ]
  },
  {
   "cell_type": "markdown",
   "id": "78d43d0a-e770-47c4-aa7a-605f00b0f17d",
   "metadata": {},
   "source": [
    "### Tasks To do:\n",
    "1. Task 1\n",
    "- Import required libraries\n",
    "- Read the dataset\n",
    "2. Task 2\n",
    "- Create an application layout\n",
    "- Add title to the dashboard application using HTML H1 component\n",
    "\n",
    "3. Task 3\n",
    "- Add input text box using core input and output components\n",
    "- Add the callback decorator and generate the line chart within the callback function.\n",
    "4. Task 4\n",
    "- Practice Exercise"
   ]
  },
  {
   "cell_type": "code",
   "execution_count": 25,
   "id": "3e43d74a-4567-4858-ae51-d8dcd474763c",
   "metadata": {},
   "outputs": [],
   "source": [
    "# Task 1\n",
    "# Importing necessary libraries\n",
    "import pandas as pd\n",
    "import plotly.graph_objects as go\n",
    "import plotly.express as px\n",
    "import dash\n",
    "from dash import dcc\n",
    "from dash import html\n",
    "from dash.dependencies import Input, Output"
   ]
  },
  {
   "cell_type": "code",
   "execution_count": 2,
   "id": "7aa46fb7-6dc1-4f0f-abe3-ba0acdad399d",
   "metadata": {},
   "outputs": [],
   "source": [
    "# Read the dataset\n",
    "airline_data =  pd.read_csv('https://cf-courses-data.s3.us.cloud-object-storage.appdomain.cloud/IBMDeveloperSkillsNetwork-DV0101EN-SkillsNetwork/Data%20Files/airline_data.csv', \n",
    "                            encoding = \"ISO-8859-1\",\n",
    "                            dtype={'Div1Airport': str, 'Div1TailNum': str, \n",
    "                                   'Div2Airport': str, 'Div2TailNum': str})"
   ]
  },
  {
   "cell_type": "code",
   "execution_count": 3,
   "id": "b061c875-8701-46b6-9eed-5a471575e8f9",
   "metadata": {},
   "outputs": [
    {
     "data": {
      "text/html": [
       "<div>\n",
       "<style scoped>\n",
       "    .dataframe tbody tr th:only-of-type {\n",
       "        vertical-align: middle;\n",
       "    }\n",
       "\n",
       "    .dataframe tbody tr th {\n",
       "        vertical-align: top;\n",
       "    }\n",
       "\n",
       "    .dataframe thead th {\n",
       "        text-align: right;\n",
       "    }\n",
       "</style>\n",
       "<table border=\"1\" class=\"dataframe\">\n",
       "  <thead>\n",
       "    <tr style=\"text-align: right;\">\n",
       "      <th></th>\n",
       "      <th>Unnamed: 0</th>\n",
       "      <th>Year</th>\n",
       "      <th>Quarter</th>\n",
       "      <th>Month</th>\n",
       "      <th>DayofMonth</th>\n",
       "      <th>DayOfWeek</th>\n",
       "      <th>FlightDate</th>\n",
       "      <th>Reporting_Airline</th>\n",
       "      <th>DOT_ID_Reporting_Airline</th>\n",
       "      <th>IATA_CODE_Reporting_Airline</th>\n",
       "      <th>...</th>\n",
       "      <th>Div4WheelsOff</th>\n",
       "      <th>Div4TailNum</th>\n",
       "      <th>Div5Airport</th>\n",
       "      <th>Div5AirportID</th>\n",
       "      <th>Div5AirportSeqID</th>\n",
       "      <th>Div5WheelsOn</th>\n",
       "      <th>Div5TotalGTime</th>\n",
       "      <th>Div5LongestGTime</th>\n",
       "      <th>Div5WheelsOff</th>\n",
       "      <th>Div5TailNum</th>\n",
       "    </tr>\n",
       "  </thead>\n",
       "  <tbody>\n",
       "    <tr>\n",
       "      <th>0</th>\n",
       "      <td>1295781</td>\n",
       "      <td>1998</td>\n",
       "      <td>2</td>\n",
       "      <td>4</td>\n",
       "      <td>2</td>\n",
       "      <td>4</td>\n",
       "      <td>1998-04-02</td>\n",
       "      <td>AS</td>\n",
       "      <td>19930</td>\n",
       "      <td>AS</td>\n",
       "      <td>...</td>\n",
       "      <td>NaN</td>\n",
       "      <td>NaN</td>\n",
       "      <td>NaN</td>\n",
       "      <td>NaN</td>\n",
       "      <td>NaN</td>\n",
       "      <td>NaN</td>\n",
       "      <td>NaN</td>\n",
       "      <td>NaN</td>\n",
       "      <td>NaN</td>\n",
       "      <td>NaN</td>\n",
       "    </tr>\n",
       "    <tr>\n",
       "      <th>1</th>\n",
       "      <td>1125375</td>\n",
       "      <td>2013</td>\n",
       "      <td>2</td>\n",
       "      <td>5</td>\n",
       "      <td>13</td>\n",
       "      <td>1</td>\n",
       "      <td>2013-05-13</td>\n",
       "      <td>EV</td>\n",
       "      <td>20366</td>\n",
       "      <td>EV</td>\n",
       "      <td>...</td>\n",
       "      <td>NaN</td>\n",
       "      <td>NaN</td>\n",
       "      <td>NaN</td>\n",
       "      <td>NaN</td>\n",
       "      <td>NaN</td>\n",
       "      <td>NaN</td>\n",
       "      <td>NaN</td>\n",
       "      <td>NaN</td>\n",
       "      <td>NaN</td>\n",
       "      <td>NaN</td>\n",
       "    </tr>\n",
       "    <tr>\n",
       "      <th>2</th>\n",
       "      <td>118824</td>\n",
       "      <td>1993</td>\n",
       "      <td>3</td>\n",
       "      <td>9</td>\n",
       "      <td>25</td>\n",
       "      <td>6</td>\n",
       "      <td>1993-09-25</td>\n",
       "      <td>UA</td>\n",
       "      <td>19977</td>\n",
       "      <td>UA</td>\n",
       "      <td>...</td>\n",
       "      <td>NaN</td>\n",
       "      <td>NaN</td>\n",
       "      <td>NaN</td>\n",
       "      <td>NaN</td>\n",
       "      <td>NaN</td>\n",
       "      <td>NaN</td>\n",
       "      <td>NaN</td>\n",
       "      <td>NaN</td>\n",
       "      <td>NaN</td>\n",
       "      <td>NaN</td>\n",
       "    </tr>\n",
       "    <tr>\n",
       "      <th>3</th>\n",
       "      <td>634825</td>\n",
       "      <td>1994</td>\n",
       "      <td>4</td>\n",
       "      <td>11</td>\n",
       "      <td>12</td>\n",
       "      <td>6</td>\n",
       "      <td>1994-11-12</td>\n",
       "      <td>HP</td>\n",
       "      <td>19991</td>\n",
       "      <td>HP</td>\n",
       "      <td>...</td>\n",
       "      <td>NaN</td>\n",
       "      <td>NaN</td>\n",
       "      <td>NaN</td>\n",
       "      <td>NaN</td>\n",
       "      <td>NaN</td>\n",
       "      <td>NaN</td>\n",
       "      <td>NaN</td>\n",
       "      <td>NaN</td>\n",
       "      <td>NaN</td>\n",
       "      <td>NaN</td>\n",
       "    </tr>\n",
       "    <tr>\n",
       "      <th>4</th>\n",
       "      <td>1888125</td>\n",
       "      <td>2017</td>\n",
       "      <td>3</td>\n",
       "      <td>8</td>\n",
       "      <td>17</td>\n",
       "      <td>4</td>\n",
       "      <td>2017-08-17</td>\n",
       "      <td>UA</td>\n",
       "      <td>19977</td>\n",
       "      <td>UA</td>\n",
       "      <td>...</td>\n",
       "      <td>NaN</td>\n",
       "      <td>NaN</td>\n",
       "      <td>NaN</td>\n",
       "      <td>NaN</td>\n",
       "      <td>NaN</td>\n",
       "      <td>NaN</td>\n",
       "      <td>NaN</td>\n",
       "      <td>NaN</td>\n",
       "      <td>NaN</td>\n",
       "      <td>NaN</td>\n",
       "    </tr>\n",
       "  </tbody>\n",
       "</table>\n",
       "<p>5 rows × 110 columns</p>\n",
       "</div>"
      ],
      "text/plain": [
       "   Unnamed: 0  Year  Quarter  Month  DayofMonth  DayOfWeek  FlightDate  \\\n",
       "0     1295781  1998        2      4           2          4  1998-04-02   \n",
       "1     1125375  2013        2      5          13          1  2013-05-13   \n",
       "2      118824  1993        3      9          25          6  1993-09-25   \n",
       "3      634825  1994        4     11          12          6  1994-11-12   \n",
       "4     1888125  2017        3      8          17          4  2017-08-17   \n",
       "\n",
       "  Reporting_Airline  DOT_ID_Reporting_Airline IATA_CODE_Reporting_Airline  \\\n",
       "0                AS                     19930                          AS   \n",
       "1                EV                     20366                          EV   \n",
       "2                UA                     19977                          UA   \n",
       "3                HP                     19991                          HP   \n",
       "4                UA                     19977                          UA   \n",
       "\n",
       "   ... Div4WheelsOff  Div4TailNum  Div5Airport  Div5AirportID  \\\n",
       "0  ...           NaN          NaN          NaN            NaN   \n",
       "1  ...           NaN          NaN          NaN            NaN   \n",
       "2  ...           NaN          NaN          NaN            NaN   \n",
       "3  ...           NaN          NaN          NaN            NaN   \n",
       "4  ...           NaN          NaN          NaN            NaN   \n",
       "\n",
       "   Div5AirportSeqID Div5WheelsOn Div5TotalGTime Div5LongestGTime  \\\n",
       "0               NaN          NaN            NaN              NaN   \n",
       "1               NaN          NaN            NaN              NaN   \n",
       "2               NaN          NaN            NaN              NaN   \n",
       "3               NaN          NaN            NaN              NaN   \n",
       "4               NaN          NaN            NaN              NaN   \n",
       "\n",
       "   Div5WheelsOff Div5TailNum  \n",
       "0            NaN         NaN  \n",
       "1            NaN         NaN  \n",
       "2            NaN         NaN  \n",
       "3            NaN         NaN  \n",
       "4            NaN         NaN  \n",
       "\n",
       "[5 rows x 110 columns]"
      ]
     },
     "execution_count": 3,
     "metadata": {},
     "output_type": "execute_result"
    }
   ],
   "source": [
    "airline_data.head()"
   ]
  },
  {
   "cell_type": "markdown",
   "id": "546e7064-5f4f-4945-8458-da44fda9c786",
   "metadata": {},
   "source": [
    "### TASK 2 - Create dash application and get the layout\n",
    "\n",
    "Next, we create a skeleton for our dash application. Overall this layout creates a simple container with a heading, an input field, and some empty space.\n",
    "\n",
    "In the upcoming tasks, you can modify and add new components and styles to the basic layout provided. This will allow you to customize and enhance the user interface of your Dash app to meet your specific needs and requirements as follows:\n",
    "\n",
    "- First we will define an application `app.layout`.\n",
    "\n",
    "- Create a heading using `html.h1()` and add style information within the divison `html.Div()`.\n",
    "\n",
    "- create a inner division using `html.Div()` function for adding input and output components such as: \n",
    "\n",
    "   - Input: label, dropdown `input-year` and `style` parameters\n",
    "   - Output: type of Graph line-plot"
   ]
  },
  {
   "cell_type": "markdown",
   "id": "9dbe66c3-06b3-4433-8641-c02b382bd64c",
   "metadata": {},
   "source": [
    "```python \n",
    "# Task 2\n",
    "# Create a dash application layout\n",
    "app = dash.Dash(__name__)\n",
    "\n",
    "# Get the layout of the application and adjust it.\n",
    "# Create an outer division using html.Div and add title to the dashboard using html.H1 component\n",
    "# Add a html.Div and core input text component\n",
    "# Finally, add graph component.\n",
    "app.layout = html.Div(children=[html.H1(),\n",
    "                                html.Div([\"Input Year\", dcc.Input(),], \n",
    "                                style={}),\n",
    "                                html.Br(),\n",
    "                                html.Br(),\n",
    "                                html.Div(),\n",
    "                                ])"
   ]
  },
  {
   "cell_type": "markdown",
   "id": "ecce5215-538b-47ec-acac-ad15daf9a226",
   "metadata": {},
   "source": [
    "### Application title add using html.H1() tag\n",
    "\n",
    "- Heading reference: Plotly `H1 HTM`L Component\n",
    "- Title as `Airline Performance Dashboard`\n",
    "- Use `style` parameter for the title and make it `center` aligned, with color code `#503D36`, and font-size as `40`. "
   ]
  },
  {
   "cell_type": "code",
   "execution_count": 4,
   "id": "69b7ea22-a1f0-4b84-b2e4-f8be84d1f5c3",
   "metadata": {},
   "outputs": [
    {
     "data": {
      "text/html": [
       "\n",
       "        <iframe\n",
       "            width=\"100%\"\n",
       "            height=\"650\"\n",
       "            src=\"http://127.0.0.1:8050/\"\n",
       "            frameborder=\"0\"\n",
       "            allowfullscreen\n",
       "            \n",
       "        ></iframe>\n",
       "        "
      ],
      "text/plain": [
       "<IPython.lib.display.IFrame at 0x1ba6d1d8ad0>"
      ]
     },
     "metadata": {},
     "output_type": "display_data"
    }
   ],
   "source": [
    "# Create a dash application\n",
    "app = dash.Dash(__name__)\n",
    "app.layout = html.Div(children = [html.H1('Airline Performance Dashboard',\n",
    "                                  style={'textAlign': 'center',\n",
    "                                         'color': '#503D36',\n",
    "                                         'font-size': 40}),\n",
    "                                html.Div([\"Input Year\", dcc.Input(),], style={}),\n",
    "                                html.Br(),\n",
    "                                html.Br(),\n",
    "                                html.Div(),\n",
    "                                ])\n",
    "# Run the app\n",
    "if __name__ == '__main__':\n",
    "    app.run_server()"
   ]
  },
  {
   "cell_type": "markdown",
   "id": "1fc3185d-84a8-4377-84dd-71869b37efb8",
   "metadata": {},
   "source": [
    "### TASK- 3: Input and Output components of layout\n",
    "\n",
    "#### Input component\n",
    "\n",
    "- As our input is a dropdown showing a list of years we will use the `dcc.Input()` function. We define the following parameters\n",
    "\n",
    "    - `id: input-year`, which is a unique identifier for this specific input field. The default value for this input field will be set to `2010`, and the type of input will be a number.\n",
    "- `style` parameter for the dropdown: Here within it we define `height of the input box to be 50px` and `font-size to be 35` to make the text larger and more readable.\n",
    "\n",
    "- `styl`e parameter for the whole division: Now assign font-size as `40` ."
   ]
  },
  {
   "cell_type": "markdown",
   "id": "4b17a6a4-52ce-4f0a-825d-56a4801ddbd1",
   "metadata": {},
   "source": [
    "#### Output component\n",
    "\n",
    "- Add `dcc.Graph()` component to the second division.\n",
    "- Update `dcc.Graph` component id as line-plot."
   ]
  },
  {
   "cell_type": "code",
   "execution_count": 5,
   "id": "a1088283-9779-4e8e-bd3a-ba24f11b803b",
   "metadata": {},
   "outputs": [
    {
     "data": {
      "text/html": [
       "\n",
       "        <iframe\n",
       "            width=\"100%\"\n",
       "            height=\"650\"\n",
       "            src=\"http://127.0.0.1:8050/\"\n",
       "            frameborder=\"0\"\n",
       "            allowfullscreen\n",
       "            \n",
       "        ></iframe>\n",
       "        "
      ],
      "text/plain": [
       "<IPython.lib.display.IFrame at 0x1ba6e89b3d0>"
      ]
     },
     "metadata": {},
     "output_type": "display_data"
    }
   ],
   "source": [
    "# Create a dash application\n",
    "app = dash.Dash(__name__)\n",
    "                               \n",
    "app.layout = html.Div(children=[ html.H1('Airline Performance Dashboard',style={'textAlign': 'center', 'color': '#503D36', 'font-size': 40}),\n",
    "                                html.Div([\"Input Year: \", dcc.Input(id='input-year', value='2010', \n",
    "                                type='number', style={'height':'50px', 'font-size': 35}),], \n",
    "                                style={'font-size': 40}),\n",
    "                                html.Br(),\n",
    "                                html.Br(),\n",
    "                                html.Div(dcc.Graph(id='line-plot')),\n",
    "                                ])\n",
    "# Run the app\n",
    "if __name__ == '__main__':\n",
    "    app.run_server()"
   ]
  },
  {
   "cell_type": "markdown",
   "id": "e6564a82-c7b9-4c09-90e7-83293ecf8054",
   "metadata": {},
   "source": [
    "### TASK 3 - Add the application callback function\n",
    "\n",
    "#### Callback\n",
    "In Python, `@app.callback` is a decorator used in the Dash framework to specify that a function should be called when an input component changes its value.The Input and Output functions are used to define the inputs and outputs of a callback function.\n",
    "\n",
    "The core idea of this application is to get year as user input(input function) and update the dashboard(output function) in real-time with the help of callback function.\n",
    "\n",
    "Steps:\n",
    "\n",
    "- Define the callback decorator\n",
    "- Define the callback function that uses the input provided to perform the computation\n",
    "- Create graph and return it as an output"
   ]
  },
  {
   "cell_type": "markdown",
   "id": "bbf9639f-e35e-4500-a091-d67321236818",
   "metadata": {},
   "source": [
    "The below code is base structure for calback decorator and function graph.\n",
    "\n",
    "```python \n",
    "\n",
    "# add callback decorator\n",
    "@app.callback(Output(),\n",
    "               Input())\n",
    "\n",
    "# Add computation to callback function and return graph\n",
    "def get_graph(entered_year):\n",
    "    # Select data based on the entered year\n",
    "    df =  airline_data[airline_data['Year']==int(entered_year)]\n",
    "    \n",
    "    # Group the data by Month and compute the average over arrival delay time.\n",
    "    line_data = df.groupby('Month')['ArrDelay'].mean().reset_index()\n",
    "    \n",
    "    # \n",
    "    fig = go.Figure(data=)\n",
    "    fig.update_layout()\n",
    "    return fig\n",
    "\n",
    "# Run the app\n",
    "if __name__ == '__main__':\n",
    "    app.run_server()"
   ]
  },
  {
   "cell_type": "markdown",
   "id": "e612b9fe-ce94-4ad0-92ed-1d2de1635a78",
   "metadata": {},
   "source": [
    "### Update the callback function\n",
    "\n",
    "#### Callback decorator\n",
    "\n",
    "- `Input()` function takes two parameters:\n",
    "\n",
    "  - `component-id` with the value `input-year`, which is the ID of the input dropdown.\n",
    "  - `component_property` being accessed is the value property, which represents the year entered by the user.\n",
    "- `Output()` function takes two parameters:\n",
    "\n",
    "  - `component-id` with the value line-plot, which is the id of the output.\n",
    "  - `component_property` being modified is the figure property, which specifies the data and layout of the line plot."
   ]
  },
  {
   "cell_type": "markdown",
   "id": "cca591fd-9642-4623-8bfa-928015b35e1e",
   "metadata": {},
   "source": [
    "#### Callback function\n",
    "\n",
    "Update data parameter of the `go.Figure()` with the scatter plot. Sample syntax below:\n",
    "\n",
    "```python\n",
    "\n",
    "go.Scatter(x='----', y='----', mode='-----', marker='----)\n",
    "           \n",
    "```\n",
    "In the `go.Scatter()` update the parameter as below:\n",
    "\n",
    "- Update `x` as `line_data['Month']`\n",
    "\n",
    "- Update `y` as `line_data['ArrDelay']`\n",
    "\n",
    "- Update `mode` as lines, and marker as `dict(color='green')`\n",
    "\n",
    "- Update `fig.update_layou`t with `title, xaxis_title, and yaxis_title` parameters.\n",
    "\n",
    "  - `Title` as `Month vs Average Flight Delay Time`\n",
    "  - `xaxis_title` as `Month`\n",
    "  - `yaxis_title` as `ArrDelay`\n",
    "  \n",
    "Refer the updated layout function here."
   ]
  },
  {
   "cell_type": "code",
   "execution_count": 7,
   "id": "440fe64c-b87f-45c0-aa77-dd18eee81cdc",
   "metadata": {},
   "outputs": [
    {
     "data": {
      "text/html": [
       "\n",
       "        <iframe\n",
       "            width=\"100%\"\n",
       "            height=\"650\"\n",
       "            src=\"http://127.0.0.1:8050/\"\n",
       "            frameborder=\"0\"\n",
       "            allowfullscreen\n",
       "            \n",
       "        ></iframe>\n",
       "        "
      ],
      "text/plain": [
       "<IPython.lib.display.IFrame at 0x1ba6e5533d0>"
      ]
     },
     "metadata": {},
     "output_type": "display_data"
    }
   ],
   "source": [
    "# Create a dash application\n",
    "app = dash.Dash(__name__)\n",
    "                               \n",
    "app.layout = html.Div(children=[ html.H1('Airline Performance Dashboard',style={'textAlign': 'center', 'color': '#503D36', 'font-size': 40}),\n",
    "                                html.Div([\"Input Year: \", dcc.Input(id='input-year', value='2010', \n",
    "                                type='number', style={'height':'50px', 'font-size': 35}),], \n",
    "                                style={'font-size': 40}),\n",
    "                                html.Br(),\n",
    "                                html.Br(),\n",
    "                                html.Div(dcc.Graph(id='line-plot')),\n",
    "                                ])\n",
    "# add callback decorator\n",
    "@app.callback( Output(component_id='line-plot', component_property='figure'),\n",
    "               Input(component_id='input-year', component_property='value'))\n",
    "# Add computation to callback function and return graph\n",
    "def get_graph(entered_year):\n",
    "    # Select 2019 data\n",
    "    df =  airline_data[airline_data['Year']==int(entered_year)]\n",
    "    \n",
    "    # Group the data by Month and compute average over arrival delay time.\n",
    "    line_data = df.groupby('Month')['ArrDelay'].mean().reset_index()\n",
    "    fig = go.Figure(data=go.Scatter(x=line_data['Month'], y=line_data['ArrDelay'], mode='lines', marker=dict(color='green')))\n",
    "    fig.update_layout(title='Month vs Average Flight Delay Time', xaxis_title='Month', yaxis_title='ArrDelay')\n",
    "    return fig\n",
    "# Run the app\n",
    "if __name__ == '__main__':\n",
    "    app.run_server()"
   ]
  },
  {
   "cell_type": "markdown",
   "id": "b187c42c-ec6b-4a1f-9890-4a384dd2db7c",
   "metadata": {},
   "source": [
    "### TASK 4 : Practice Exercise\n",
    "\n",
    "#### Theme\n",
    "Let us use a bar chart to extract the number of flights from a specific airline that goes to a destination.\n",
    "\n",
    "#### Expected Output\n",
    "Below is the expected result from the lab. Our dashboard application consists of three components:\n",
    "\n",
    "- Title of the application\n",
    "- Component to enter input year\n",
    "- A chart conveying Total number of flights to the destination state."
   ]
  },
  {
   "cell_type": "markdown",
   "id": "72b7e5ac-67dd-4881-bceb-9062d96ee66e",
   "metadata": {},
   "source": [
    "**Give the title to the dashboard to “Total number of flights to the destination state split by reporting air” using HTML H1 component and font-size as 50.**"
   ]
  },
  {
   "cell_type": "code",
   "execution_count": 21,
   "id": "00749637-5245-4873-85ef-b51652af16c2",
   "metadata": {},
   "outputs": [],
   "source": [
    "app = dash.Dash(__name__)\n",
    "app.layout = html.Div(children=[ html.H1('Total number of flights to the destination state split by reporting airline',\n",
    "                            style={'textAlign': 'center', 'color': '#503D36', 'font-size': 50}),\n",
    "                            html.Div([\"Input Year: \", dcc. Input(id='input-year',value='2010',\n",
    "                            type='number', style={'height':'50px', 'font-size': 35}),], \n",
    "                            style={'font-size': 50}),html.Br(), html.Br(),\n",
    "                            html.Div(dcc.Graph(id='bar-plot')),]) "
   ]
  },
  {
   "cell_type": "markdown",
   "id": "2ca7ea4c-75e0-4457-ab91-5febf7d00b08",
   "metadata": {},
   "source": [
    "**Add Callback decorator and Define Callback graph function**"
   ]
  },
  {
   "cell_type": "code",
   "execution_count": 23,
   "id": "ff292866-ab92-4e00-a169-e410882bcb44",
   "metadata": {},
   "outputs": [],
   "source": [
    "@app.callback( Output(component_id='bar-plot',component_property='figure'),\n",
    "             Input(component_id='input-year', component_property='value'))\n",
    "\n",
    "def get_graph(entered_year):\n",
    "    df =  airline_data[airline_data['Year']==int(entered_year)]\n",
    "    bar_data = df.groupby('DestState')['Flights'].sum().reset_index()\n",
    "    fig = px.bar(bar_data, x= \"DestState\", y= \"Flights\", title='Total number of flights to the destination state split by reporting airline') \n",
    "    fig.update_layout(title='Flights to Destination State', xaxis_title='DestState', yaxis_title='Flights')\n",
    "    return fig        "
   ]
  },
  {
   "cell_type": "markdown",
   "id": "01df296f-2671-4632-a8d4-cabe8f1c12ca",
   "metadata": {},
   "source": [
    "**Add the code for running the app, save the above changes, and relaunch the dashboard application to see the new dashboard.**"
   ]
  },
  {
   "cell_type": "code",
   "execution_count": 26,
   "id": "a16ba6ae-7bef-4ef3-b049-74af477fa696",
   "metadata": {},
   "outputs": [
    {
     "data": {
      "text/html": [
       "\n",
       "        <iframe\n",
       "            width=\"100%\"\n",
       "            height=\"650\"\n",
       "            src=\"http://127.0.0.1:8050/\"\n",
       "            frameborder=\"0\"\n",
       "            allowfullscreen\n",
       "            \n",
       "        ></iframe>\n",
       "        "
      ],
      "text/plain": [
       "<IPython.lib.display.IFrame at 0x1ba700287d0>"
      ]
     },
     "metadata": {},
     "output_type": "display_data"
    }
   ],
   "source": [
    "if __name__ == '__main__':\n",
    "    app.run_server() "
   ]
  },
  {
   "cell_type": "markdown",
   "id": "1ec12494-9abc-421d-a1a1-e2c4f26e63e4",
   "metadata": {},
   "source": [
    "### Congratulations, you have successfully created your dash application!"
   ]
  },
  {
   "cell_type": "markdown",
   "id": "8c34f65a-d03d-4e6a-b0de-f19cc86320e9",
   "metadata": {},
   "source": [
    "<center>© IBM Corporation 2020. All rights reserved.\"</center>"
   ]
  }
 ],
 "metadata": {
  "kernelspec": {
   "display_name": "Python 3 (ipykernel)",
   "language": "python",
   "name": "python3"
  },
  "language_info": {
   "codemirror_mode": {
    "name": "ipython",
    "version": 3
   },
   "file_extension": ".py",
   "mimetype": "text/x-python",
   "name": "python",
   "nbconvert_exporter": "python",
   "pygments_lexer": "ipython3",
   "version": "3.11.0"
  }
 },
 "nbformat": 4,
 "nbformat_minor": 5
}
