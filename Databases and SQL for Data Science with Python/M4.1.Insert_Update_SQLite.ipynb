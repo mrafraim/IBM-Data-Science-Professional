{
 "cells": [
  {
   "cell_type": "markdown",
   "metadata": {},
   "source": [
    "<center>\n",
    "    <img src=\"https://cf-courses-data.s3.us.cloud-object-storage.appdomain.cloud/IBMDeveloperSkillsNetwork-DB0201EN-SkillsNetwork/labs/FinalModule_Coursera_V5/images/SN_web_lightmode.png\" width=\"300\" alt=\"cognitiveclass.ai logo\">\n",
    "</center>\n",
    "\n",
    "# Create & Access SQLite database using Python\n",
    "\n",
    "Estimated time needed: **15** minutes\n",
    "\n",
    "## Objectives\n",
    "\n",
    "After completing this lab you will be able to:\n",
    "\n",
    "*   Create a database\n",
    "*   Create a table\n",
    "*   Insert data into the table\n",
    "*   Query data from the table\n",
    "*   Retrieve the result set into a pandas dataframe\n",
    "*   Close the database connection\n"
   ]
  },
  {
   "cell_type": "markdown",
   "metadata": {},
   "source": [
    "SQLite is a software library that implements a self-contained, serverless, zero-configuration, transactional SQL database engine. SQLite is the most widely deployed SQL database engine in the world.\n",
    "\n",
    "Key features of SQLite include:\n",
    "\n",
    "- Self-Contained: The entire SQLite database is contained in a single file. This makes it easy to distribute and manage, as there is no separate database server to install or configure.\n",
    "\n",
    "- Serverless: Unlike traditional database management systems, SQLite doesn't rely on a separate server process to manage the database. Applications directly interact with the SQLite library, making it simpler to integrate into applications.\n",
    "\n",
    "- Zero Configuration: SQLite doesn't require extensive configuration or setup. Once you have the library, you can start using it immediately without complex installation procedures.\n",
    "\n",
    "- Cross-Platform: SQLite is cross-platform and works on a wide range of operating systems, including Windows, macOS, Linux, iOS, Android, and more.\n",
    "\n",
    "- ACID Compliance: SQLite is ACID (Atomicity, Consistency, Isolation, Durability) compliant, meaning it ensures data integrity and reliability even in the face of failures.\n",
    "\n",
    "- SQL Support: SQLite supports a subset of SQL (Structured Query Language) for performing operations like creating, updating, querying, and deleting data in the database.\n",
    "\n",
    "- Transaction Support: SQLite supports transactions, allowing you to group multiple database operations into a single transaction that can be rolled back if needed.\n",
    "\n",
    "- Low Resource Usage: Due to its lightweight nature, SQLite can work efficiently even on devices with limited resources.\n",
    "\n",
    "- Libraries and Bindings: SQLite provides libraries and bindings for various programming languages, making it easy to integrate with applications written in different languages.\n",
    "\n",
    "## Task 1: Create database using SQLite\n"
   ]
  },
  {
   "cell_type": "code",
   "execution_count": 1,
   "metadata": {},
   "outputs": [],
   "source": [
    "import sqlite3\n",
    "\n",
    "# Connect to an SQLite database file named 'INSTRUCTOR.db'\n",
    "conn = sqlite3.connect('INSTRUCTOR.db')"
   ]
  },
  {
   "cell_type": "markdown",
   "metadata": {},
   "source": [
    "In this code snippet:\n",
    "\n",
    "- `import sqlite3`: This line imports the sqlite3 module, which is a built-in module in Python used for interacting with SQLite databases.\n",
    "\n",
    "- `conn = sqlite3.connect('INSTRUCTOR.db')`: This line establishes a connection to the SQLite database file named 'INSTRUCTOR.db'. If the file doesn't exist, SQLite will create it. If it already exists, SQLite will open it."
   ]
  },
  {
   "cell_type": "markdown",
   "metadata": {},
   "source": [
    "Cursor class is an instance using which you can invoke methods that execute SQLite statements, fetch data from the result sets of the queries. You can create Cursor object using the cursor() method of the Connection object/class.\n"
   ]
  },
  {
   "cell_type": "code",
   "execution_count": 2,
   "metadata": {
    "scrolled": true
   },
   "outputs": [],
   "source": [
    "# create a cursor object\n",
    "cursor_obj = conn.cursor()"
   ]
  },
  {
   "cell_type": "markdown",
   "metadata": {},
   "source": [
    "you're creating a cursor using `conn.cursor()`. Think of this cursor (cursor_obj) as the \"finger\" or \"pointer\". It's like a tool that you'll use to interact with the data in the database. With this cursor object, you can now execute SQL commands, fetch and manipulate data, and perform various operations on the database. It's the tool that helps you navigate through the data and perform actions on it."
   ]
  },
  {
   "cell_type": "markdown",
   "metadata": {},
   "source": [
    "## Task 2: Create a table in the database\n",
    "\n",
    "In this step we will create a table in the database with following details:\n",
    "\n",
    "<img src=\"https://cf-courses-data.s3.us.cloud-object-storage.appdomain.cloud/IBMDeveloperSkillsNetwork-DB0201EN-SkillsNetwork/labs/FinalModule_Coursera_V5/images/table.png\" align=\"center\">\n"
   ]
  },
  {
   "cell_type": "markdown",
   "metadata": {},
   "source": [
    "Before creating a table, let's first if the table already exist or not. To drop the table from a database use **DROP** query. A cursor is an object which helps to execute the query and fetch the records from the database.\n"
   ]
  },
  {
   "cell_type": "code",
   "execution_count": 3,
   "metadata": {},
   "outputs": [
    {
     "data": {
      "text/plain": [
       "<sqlite3.Cursor at 0x25c62c76440>"
      ]
     },
     "execution_count": 3,
     "metadata": {},
     "output_type": "execute_result"
    }
   ],
   "source": [
    "# Drop the table if already exists.\n",
    "cursor_obj.execute(\"DROP TABLE IF EXISTS INSTRUCTOR\")"
   ]
  },
  {
   "cell_type": "markdown",
   "metadata": {},
   "source": [
    "- The `.execute()` method of the cursor object is used to execute SQL commands. In this case, you're executing an SQL command to drop a table named \"INSTRUCTOR\".\n",
    "\n",
    "- `DROP TABLE IF EXISTS INSTRUCTOR`is an SQL statement. It's telling the database to remove the \"INSTRUCTOR\" table if it exists. The `IF EXISTS` part makes sure that if the table doesn't exist, there won't be an error. It will just continue without doing anything."
   ]
  },
  {
   "cell_type": "markdown",
   "metadata": {},
   "source": [
    "## Dont worry if you get this error:\n",
    "\n",
    "If you see an exception/error similar to the following, indicating that INSTRUCTOR is an undefined name, that's okay. It just implies that the INSTRUCTOR table does not exist in the table - which would be the case if you had not created it previously.\n",
    "\n",
    "<strong>Exception: \\[IBM]\\[CLI Driver]\\[DB2/LINUXX8664] SQL0204N  \"ABC12345.INSTRUCTOR\" is an undefined name.  SQLSTATE=42704 SQLCODE=-204</strong>\n"
   ]
  },
  {
   "cell_type": "code",
   "execution_count": 4,
   "metadata": {},
   "outputs": [
    {
     "name": "stdout",
     "output_type": "stream",
     "text": [
      "Table is Ready\n"
     ]
    }
   ],
   "source": [
    "# Creating the SQL table creation command\n",
    "table = \"\"\"CREATE TABLE IF NOT EXISTS INSTRUCTOR(\n",
    "             ID INTEGER PRIMARY KEY NOT NULL,\n",
    "             FNAME VARCHAR(20),\n",
    "             LNAME VARCHAR(20),\n",
    "             CITY VARCHAR(20),\n",
    "             CCODE CHAR(2)\n",
    "          );\"\"\"\n",
    "\n",
    "# Executing the table creation command\n",
    "cursor_obj.execute(table)\n",
    "\n",
    "# Printing a confirmation message\n",
    "print(\"Table is Ready\")\n"
   ]
  },
  {
   "cell_type": "markdown",
   "metadata": {},
   "source": [
    "## Task 3: Insert data into the table\n",
    "\n",
    "In this step we will insert some rows of data into the table.\n",
    "\n",
    "The INSTRUCTOR table we created in the previous step contains 3 rows of data:\n",
    "\n",
    "<img src=\"https://cf-courses-data.s3.us.cloud-object-storage.appdomain.cloud/IBMDeveloperSkillsNetwork-DB0201EN-SkillsNetwork/labs/FinalModule_Coursera_V5/images/table1.png\" align=\"center\">\n",
    "\n",
    "We will start by inserting just the first row of data, i.e. for instructor Rav Ahuja\n"
   ]
  },
  {
   "cell_type": "code",
   "execution_count": 5,
   "metadata": {},
   "outputs": [
    {
     "data": {
      "text/plain": [
       "<sqlite3.Cursor at 0x25c62c76440>"
      ]
     },
     "execution_count": 5,
     "metadata": {},
     "output_type": "execute_result"
    }
   ],
   "source": [
    "cursor_obj.execute('''insert into INSTRUCTOR\n",
    "                   values\n",
    "                   (1,'Rav','Ahuja','TORONTO','CA')''')"
   ]
  },
  {
   "cell_type": "markdown",
   "metadata": {},
   "source": [
    "The output you will get something as: <strong>sqlite3.Cursor at 0x27a1a491260</strong> which means mySql database has sqlite3.Cursor object at 0x27a1a49126 as output in table. But you may get the different number.\n",
    "\n",
    "Now use a single query to insert the remaining two rows of data\n"
   ]
  },
  {
   "cell_type": "code",
   "execution_count": 6,
   "metadata": {},
   "outputs": [
    {
     "data": {
      "text/plain": [
       "<sqlite3.Cursor at 0x25c62c76440>"
      ]
     },
     "execution_count": 6,
     "metadata": {},
     "output_type": "execute_result"
    }
   ],
   "source": [
    "cursor_obj.execute('''insert into INSTRUCTOR \n",
    "                      values \n",
    "                      (2, 'Raul', 'Chong', 'Markham', 'CA'),\n",
    "                      (3, 'Hima', 'Vasudevan', 'Chicago', 'US')''')"
   ]
  },
  {
   "cell_type": "markdown",
   "metadata": {},
   "source": [
    "## Task 4: Query data in the table\n",
    "\n",
    "In this step we will retrieve data we inserted into the INSTRUCTOR table.\n"
   ]
  },
  {
   "cell_type": "code",
   "execution_count": 7,
   "metadata": {},
   "outputs": [
    {
     "name": "stdout",
     "output_type": "stream",
     "text": [
      "All the data\n",
      "(1, 'Rav', 'Ahuja', 'TORONTO', 'CA')\n",
      "(2, 'Raul', 'Chong', 'Markham', 'CA')\n",
      "(3, 'Hima', 'Vasudevan', 'Chicago', 'US')\n"
     ]
    }
   ],
   "source": [
    "# SQL statement to select all rows from the \"INSTRUCTOR\" table\n",
    "statement = '''SELECT * FROM INSTRUCTOR'''\n",
    "\n",
    "# Executing the SELECT statement using the cursor\n",
    "cursor_obj.execute(statement)\n",
    "\n",
    "# Printing a message\n",
    "print(\"All the data\")\n",
    "\n",
    "# Fetching all rows from the result set\n",
    "output_all = cursor_obj.fetchall()\n",
    "\n",
    "# Looping through each row and printing its data\n",
    "for row_all in output_all:\n",
    "    print(row_all)\n"
   ]
  },
  {
   "cell_type": "code",
   "execution_count": 8,
   "metadata": {},
   "outputs": [
    {
     "name": "stdout",
     "output_type": "stream",
     "text": [
      "All the data\n",
      "(1, 'Rav', 'Ahuja', 'TORONTO', 'CA')\n",
      "(2, 'Raul', 'Chong', 'Markham', 'CA')\n"
     ]
    }
   ],
   "source": [
    "# SQL statement to select all rows from the \"INSTRUCTOR\" table\n",
    "statement = '''SELECT * FROM INSTRUCTOR'''\n",
    "\n",
    "# Executing the SELECT statement using the cursor\n",
    "cursor_obj.execute(statement)\n",
    "\n",
    "# Printing a message\n",
    "print(\"All the data\")\n",
    "\n",
    "# Fetching a specific number of rows from the result set (in this case, 2 rows)\n",
    "output_many = cursor_obj.fetchmany(2)\n",
    "\n",
    "# Looping through each fetched row and printing its data\n",
    "for row_many in output_many:\n",
    "    print(row_many)\n"
   ]
  },
  {
   "cell_type": "code",
   "execution_count": 9,
   "metadata": {},
   "outputs": [
    {
     "name": "stdout",
     "output_type": "stream",
     "text": [
      "All the data\n",
      "('Rav',)\n",
      "('Raul',)\n",
      "('Hima',)\n"
     ]
    }
   ],
   "source": [
    "# SQL statement to select only the \"FNAME\" column from the \"INSTRUCTOR\" table\n",
    "statement = '''SELECT FNAME FROM INSTRUCTOR'''\n",
    "\n",
    "# Executing the SELECT statement using the cursor\n",
    "cursor_obj.execute(statement)\n",
    "\n",
    "# Printing a message\n",
    "print(\"All the data\")\n",
    "\n",
    "# Fetching all rows from the result set, but only the \"FNAME\" column\n",
    "output_column = cursor_obj.fetchall()\n",
    "\n",
    "# Looping through each fetched row and printing the \"FNAME\" column value\n",
    "for fetch in output_column:\n",
    "    print(fetch)\n"
   ]
  },
  {
   "cell_type": "markdown",
   "metadata": {},
   "source": [
    "<Strong>Bonus: now write and execute an update statement that changes the Rav's CITY to MOOSETOWN</strong>\n"
   ]
  },
  {
   "cell_type": "code",
   "execution_count": 10,
   "metadata": {},
   "outputs": [
    {
     "data": {
      "text/plain": [
       "<sqlite3.Cursor at 0x25c62c76440>"
      ]
     },
     "execution_count": 10,
     "metadata": {},
     "output_type": "execute_result"
    }
   ],
   "source": [
    "# SQL statement to update the \"CITY\" column in the \"INSTRUCTOR\" table\n",
    "query_update = '''UPDATE INSTRUCTOR SET CITY='MOOSETOWN' WHERE FNAME=\"Rav\"'''\n",
    "\n",
    "# Executing the UPDATE statement using the cursor\n",
    "cursor_obj.execute(query_update)\n"
   ]
  },
  {
   "cell_type": "code",
   "execution_count": 11,
   "metadata": {},
   "outputs": [
    {
     "name": "stdout",
     "output_type": "stream",
     "text": [
      "All the data\n",
      "(1, 'Rav', 'Ahuja', 'MOOSETOWN', 'CA')\n",
      "(2, 'Raul', 'Chong', 'Markham', 'CA')\n"
     ]
    }
   ],
   "source": [
    "# SQL statement to select all rows from the \"INSTRUCTOR\" table\n",
    "statement = '''SELECT * FROM INSTRUCTOR'''\n",
    "\n",
    "# Executing the SELECT statement using the cursor\n",
    "cursor_obj.execute(statement)\n",
    "\n",
    "# Printing a message\n",
    "print(\"All the data\")\n",
    "\n",
    "# Fetching a specific number of rows from the result set (in this case, 2 rows)\n",
    "output1 = cursor_obj.fetchmany(2)\n",
    "\n",
    "# Looping through each fetched row and printing its data\n",
    "for row in output1:\n",
    "    print(row)\n"
   ]
  },
  {
   "cell_type": "markdown",
   "metadata": {},
   "source": [
    "## Task 5: Retrieve data into Pandas\n",
    "\n",
    "In this step we will retrieve the contents of the INSTRUCTOR table into a Pandas dataframe\n"
   ]
  },
  {
   "cell_type": "code",
   "execution_count": 12,
   "metadata": {},
   "outputs": [
    {
     "data": {
      "text/html": [
       "<div>\n",
       "<style scoped>\n",
       "    .dataframe tbody tr th:only-of-type {\n",
       "        vertical-align: middle;\n",
       "    }\n",
       "\n",
       "    .dataframe tbody tr th {\n",
       "        vertical-align: top;\n",
       "    }\n",
       "\n",
       "    .dataframe thead th {\n",
       "        text-align: right;\n",
       "    }\n",
       "</style>\n",
       "<table border=\"1\" class=\"dataframe\">\n",
       "  <thead>\n",
       "    <tr style=\"text-align: right;\">\n",
       "      <th></th>\n",
       "      <th>ID</th>\n",
       "      <th>FNAME</th>\n",
       "      <th>LNAME</th>\n",
       "      <th>CITY</th>\n",
       "      <th>CCODE</th>\n",
       "    </tr>\n",
       "  </thead>\n",
       "  <tbody>\n",
       "    <tr>\n",
       "      <th>0</th>\n",
       "      <td>1</td>\n",
       "      <td>Rav</td>\n",
       "      <td>Ahuja</td>\n",
       "      <td>MOOSETOWN</td>\n",
       "      <td>CA</td>\n",
       "    </tr>\n",
       "    <tr>\n",
       "      <th>1</th>\n",
       "      <td>2</td>\n",
       "      <td>Raul</td>\n",
       "      <td>Chong</td>\n",
       "      <td>Markham</td>\n",
       "      <td>CA</td>\n",
       "    </tr>\n",
       "    <tr>\n",
       "      <th>2</th>\n",
       "      <td>3</td>\n",
       "      <td>Hima</td>\n",
       "      <td>Vasudevan</td>\n",
       "      <td>Chicago</td>\n",
       "      <td>US</td>\n",
       "    </tr>\n",
       "  </tbody>\n",
       "</table>\n",
       "</div>"
      ],
      "text/plain": [
       "   ID FNAME      LNAME       CITY CCODE\n",
       "0   1   Rav      Ahuja  MOOSETOWN    CA\n",
       "1   2  Raul      Chong    Markham    CA\n",
       "2   3  Hima  Vasudevan    Chicago    US"
      ]
     },
     "execution_count": 12,
     "metadata": {},
     "output_type": "execute_result"
    }
   ],
   "source": [
    "import pandas as pd\n",
    "\n",
    "#retrieve the query results into a pandas dataframe\n",
    "df = pd.read_sql_query(\"select * from instructor;\", conn)\n",
    "\n",
    "#print the dataframe\n",
    "df"
   ]
  },
  {
   "cell_type": "code",
   "execution_count": 13,
   "metadata": {},
   "outputs": [
    {
     "data": {
      "text/plain": [
       "'Ahuja'"
      ]
     },
     "execution_count": 13,
     "metadata": {},
     "output_type": "execute_result"
    }
   ],
   "source": [
    "#print just the LNAME for first row in the pandas data frame\n",
    "df.LNAME[0]"
   ]
  },
  {
   "cell_type": "markdown",
   "metadata": {},
   "source": [
    "Once the data is in a Pandas dataframe, you can do the typical pandas operations on it.\n",
    "\n",
    "For example you can use the shape method to see how many rows and columns are in the dataframe\n"
   ]
  },
  {
   "cell_type": "code",
   "execution_count": 14,
   "metadata": {
    "scrolled": true
   },
   "outputs": [
    {
     "data": {
      "text/plain": [
       "(3, 5)"
      ]
     },
     "execution_count": 14,
     "metadata": {},
     "output_type": "execute_result"
    }
   ],
   "source": [
    "df.shape"
   ]
  },
  {
   "cell_type": "markdown",
   "metadata": {},
   "source": [
    "## Task 6: Close the Connection\n",
    "\n",
    "We free all resources by closing the connection. Remember that it is always important to close connections so that we can avoid unused connections taking up resources.\n"
   ]
  },
  {
   "cell_type": "code",
   "execution_count": 15,
   "metadata": {},
   "outputs": [],
   "source": [
    "# Close the connection\n",
    "conn.close()"
   ]
  },
  {
   "cell_type": "markdown",
   "metadata": {},
   "source": [
    "## Summary\n",
    "\n",
    "In this tutorial you created a database & table in Python notebook using SQLite3. Then created a table and insert a few rows of data into it. Then queried the data. You also retrieved the data into a pandas dataframe.\n",
    "\n",
    "The Python DB API is a tool that makes it easier for your Python programs to talk to databases. It follows a set of rules so that no matter which database you're using, your Python code can communicate with it in a consistent and understandable way. This saves you from having to learn all the nitty-gritty details of how each different type of database works.\n"
   ]
  },
  {
   "cell_type": "markdown",
   "metadata": {},
   "source": [
    "\n",
    "## <h3 align=\"center\"> © IBM Corporation 2022. All rights reserved. <h3/>\n"
   ]
  }
 ],
 "metadata": {
  "kernelspec": {
   "display_name": "Python 3 (ipykernel)",
   "language": "python",
   "name": "python3"
  },
  "language_info": {
   "codemirror_mode": {
    "name": "ipython",
    "version": 3
   },
   "file_extension": ".py",
   "mimetype": "text/x-python",
   "name": "python",
   "nbconvert_exporter": "python",
   "pygments_lexer": "ipython3",
   "version": "3.11.1"
  }
 },
 "nbformat": 4,
 "nbformat_minor": 4
}
